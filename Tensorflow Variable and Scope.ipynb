{
 "cells": [
  {
   "cell_type": "markdown",
   "metadata": {},
   "source": [
    "# 変数\n",
    "## tensorflow変数基礎\n",
    "TensorflowではTensor及びVariableで変数が定義されている。  \n",
    "公式のドキュメントからではないが、一番大きな違いはepoch間で使いまわす変数か、単純にデータをやり取りする中間データ的な意味合いの変数か  \n",
    "また、Variableはデータを保存して、別のプロセスで動作させるときにも復帰させることが可能\n",
    "\n",
    "## Variable\n",
    "### Creation\n",
    "When you create a Variable you pass a Tensor as its initial value to the Variable() constructor. TensorFlow provides a collection of ops that produce tensors often used for initialization from constants or random values."
   ]
  },
  {
   "cell_type": "code",
   "execution_count": 1,
   "metadata": {
    "collapsed": false
   },
   "outputs": [
    {
     "name": "stdout",
     "output_type": "stream",
     "text": [
      "Tensor(\"v/read:0\", shape=(3,), dtype=float32)\n",
      "Tensor(\"Variable/read:0\", shape=(3,), dtype=float32)\n",
      "[ 3.  4.  5.]\n",
      "[  9.  11.  13.]\n",
      "[  9.  11.  13.]\n"
     ]
    }
   ],
   "source": [
    "from __future__ import absolute_import\n",
    "from __future__ import division\n",
    "from __future__ import print_function\n",
    "\n",
    "import tensorflow as tf\n",
    "\n",
    "v = tf.Variable([3., 4., 5.], name=\"v\")\n",
    "w = tf.Variable([6., 7., 8.], name=\"w\")\n",
    "x = tf.Variable(tf.random_normal([3], stddev=0.35))\n",
    "add_x = x.assign(tf.add(v, w))\n",
    "print(v)\n",
    "print(x)\n",
    "\n",
    "# 値を参照する時はセッション上で走らせることが必要\n",
    "# また、セッションの最初に変数を初期化するのも自動でやらないのでやってあげることも必要\n",
    "with tf.Session() as sess:\n",
    "    sess.run(tf.global_variables_initializer())\n",
    "    print(sess.run(v)) # => [3, 4, 5]\n",
    "    print(sess.run(add_x)) # => [9, 11, 13]\n",
    "    print(sess.run(add_x)) # => [9, 11, 13]"
   ]
  },
  {
   "cell_type": "code",
   "execution_count": 2,
   "metadata": {
    "collapsed": false
   },
   "outputs": [
    {
     "name": "stdout",
     "output_type": "stream",
     "text": [
      "[ 3.  4.  5.]\n",
      "[  6.   8.  10.]\n",
      "20\n"
     ]
    }
   ],
   "source": [
    "z = tf.Variable([0., 0., 0.], name=\"z\")\n",
    "add_z = z.assign_add(v) # calculate z = z + v\n",
    "c = tf.Variable(0)\n",
    "countup_op = c.count_up_to(20)\n",
    "\n",
    "with tf.Session() as sess:\n",
    "    sess.run(tf.global_variables_initializer())\n",
    "    print(sess.run(add_z)) # => [3. 4. 5.]\n",
    "    print(sess.run(add_z)) # => [6. 8. 10.] operation assign keeps previous run value.\n",
    "    \n",
    "    for i in range(20):\n",
    "        sess.run(countup_op)\n",
    "    print(sess.run(c)) # 20"
   ]
  },
  {
   "cell_type": "markdown",
   "metadata": {},
   "source": [
    "### Sharing Variables\n",
    "変数スコープの範囲外で変数を参照したり共有したりする場合に使う  \n",
    "一度作るとプロセスが終わるまで消えないので、Jupyterのノートブックで利用する場合は2回目以降はKernel -> Restart x でプロセスを再起動して実験すること"
   ]
  },
  {
   "cell_type": "code",
   "execution_count": 1,
   "metadata": {
    "collapsed": false
   },
   "outputs": [
    {
     "name": "stdout",
     "output_type": "stream",
     "text": [
      "foo/bar/a:0\n",
      "Tensor(\"foo/bar/Identity:0\", shape=(1,), dtype=float32)\n",
      "Tensor(\"foo/b/read:0\", shape=(1,), dtype=float32)\n",
      "[ 3.]\n"
     ]
    }
   ],
   "source": [
    "from __future__ import absolute_import\n",
    "from __future__ import division\n",
    "from __future__ import print_function\n",
    "\n",
    "import tensorflow as tf\n",
    "\n",
    "def create_a():\n",
    "    with tf.variable_scope(\"foo\"):\n",
    "        with tf.variable_scope(\"bar\"):\n",
    "            a = tf.get_variable(\"a\", initializer=[1.]) # create name=foo/bar/a, initial value is [1]\n",
    "            print(a.name)\n",
    "            print(a.initialized_value())\n",
    "\n",
    "create_a()\n",
    "            \n",
    "with tf.variable_scope(\"foo\"):\n",
    "    b = tf.get_variable(\"b\", initializer=[2.])\n",
    "    with tf.variable_scope(\"bar\", reuse=True):\n",
    "        a = tf.get_variable(\"a\")\n",
    "        print(b)\n",
    "        c = a + b\n",
    "\n",
    "with tf.Session() as sess:\n",
    "    sess.run(tf.global_variables_initializer())\n",
    "    print(sess.run(c)) # => 3"
   ]
  },
  {
   "cell_type": "code",
   "execution_count": 1,
   "metadata": {
    "collapsed": false
   },
   "outputs": [
    {
     "name": "stdout",
     "output_type": "stream",
     "text": [
      "[u'inputs:0', u'layer1/weight:0', u'layer1/bias:0', u'layer2/weight:0', u'layer2/bias:0']\n",
      "[array([[ 1.,  2.,  3.,  4.]], dtype=float32), array([[ -0.56994236,  -7.30462742,  -4.88215542,   6.30314541,\n",
      "        -11.01966381,  -1.64621854,   6.24833488,  11.6736908 ,\n",
      "         -1.67106295,   3.19665885]], dtype=float32), array([[-34.84638214,  10.00866413, -11.08512211,   9.81978989]], dtype=float32)]\n"
     ]
    }
   ],
   "source": [
    "# 使い方としては例えば相互との構造を定義する関数とか\n",
    "\n",
    "from __future__ import absolute_import\n",
    "from __future__ import division\n",
    "from __future__ import print_function\n",
    "\n",
    "import tensorflow as tf\n",
    "\n",
    "def linear(inputs, output_dim):\n",
    "    input_dim = inputs.get_shape()[1].value\n",
    "    w = tf.get_variable(\"weight\", initializer=tf.random_normal([input_dim, output_dim]))\n",
    "    b = tf.get_variable(\"bias\", initializer=tf.zeros([output_dim]))\n",
    "    return tf.matmul(inputs, w) + b\n",
    "\n",
    "inputs = tf.Variable([1., 2., 3., 4.], name=\"inputs\")\n",
    "inputs = tf.expand_dims(inputs, 0)\n",
    "\n",
    "with tf.variable_scope(\"layer1\"):\n",
    "    l1 = linear(inputs, output_dim = 10)\n",
    "\n",
    "with tf.variable_scope(\"layer2\"):\n",
    "    l2 = linear(l1, output_dim = 4)\n",
    "\n",
    "print(map(lambda e: e.name, tf.global_variables()))\n",
    "    \n",
    "with tf.Session() as sess:\n",
    "    sess.run(tf.global_variables_initializer())\n",
    "    print(sess.run([inputs, l1, l2]))\n",
    "    "
   ]
  },
  {
   "cell_type": "code",
   "execution_count": 1,
   "metadata": {
    "collapsed": true
   },
   "outputs": [],
   "source": [
    "from __future__ import absolute_import\n",
    "from __future__ import division\n",
    "from __future__ import print_function\n",
    "\n",
    "\n",
    "import tensorflow as tf\n",
    "\n",
    "def my_op(a, b, c, name=None):\n",
    "  with tf.name_scope(name, \"MyOp\", [a, b, c]) as scope:\n",
    "    a = tf.convert_to_tensor(a, name=\"a\")\n",
    "    b = tf.convert_to_tensor(b, name=\"b\")\n",
    "    c = tf.convert_to_tensor(c, name=\"c\")\n",
    "    d = a + b + c\n",
    "    return d\n"
   ]
  },
  {
   "cell_type": "code",
   "execution_count": 12,
   "metadata": {
    "collapsed": false
   },
   "outputs": [
    {
     "name": "stdout",
     "output_type": "stream",
     "text": [
      "[<tensorflow.python.ops.variables.Variable object at 0x7fb78b028390>, <tensorflow.python.ops.variables.Variable object at 0x7fb78b0774d0>, <tensorflow.python.ops.variables.Variable object at 0x7fb78c1d2210>, <tensorflow.python.ops.variables.Variable object at 0x7fb78f039150>]\n",
      "[6]\n"
     ]
    }
   ],
   "source": [
    "a = tf.Variable([1], name=\"a\")\n",
    "b = tf.constant([2])\n",
    "c = tf.constant([3])\n",
    "\n",
    "r = my_op(a, b, c, name=\"test\")\n",
    "\n",
    "print(tf.global_variables())\n",
    "\n",
    "with tf.Session() as sess:\n",
    "    sess.run(tf.global_variables_initializer())\n",
    "    print(sess.run(r))"
   ]
  },
  {
   "cell_type": "code",
   "execution_count": null,
   "metadata": {
    "collapsed": true
   },
   "outputs": [],
   "source": []
  }
 ],
 "metadata": {
  "kernelspec": {
   "display_name": "Python 2",
   "language": "python",
   "name": "python2"
  },
  "language_info": {
   "codemirror_mode": {
    "name": "ipython",
    "version": 2
   },
   "file_extension": ".py",
   "mimetype": "text/x-python",
   "name": "python",
   "nbconvert_exporter": "python",
   "pygments_lexer": "ipython2",
   "version": "2.7.6"
  }
 },
 "nbformat": 4,
 "nbformat_minor": 2
}
