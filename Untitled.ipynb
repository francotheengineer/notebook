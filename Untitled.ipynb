{
 "cells": [
  {
   "cell_type": "code",
   "execution_count": 1,
   "metadata": {
    "collapsed": false
   },
   "outputs": [
    {
     "name": "stdout",
     "output_type": "stream",
     "text": [
      "['./train_70.jpg']\n",
      "['train_67.jpg']\n",
      "['train_40.jpg']\n",
      "['./train_70.jpg']\n",
      "['train_67.jpg']\n",
      "['train_40.jpg']\n",
      "['./train_70.jpg']\n",
      "['train_67.jpg']\n",
      "['train_40.jpg']\n",
      "['./train_70.jpg']\n",
      "['train_67.jpg']\n",
      "['train_40.jpg']\n",
      "['./train_70.jpg']\n",
      "['train_67.jpg']\n",
      "['train_40.jpg']\n",
      "['./train_70.jpg']\n",
      "['train_67.jpg']\n",
      "['train_40.jpg']\n",
      "['./train_70.jpg']\n",
      "['train_67.jpg']\n",
      "['./temp.txt']\n",
      "['./temp.txt']\n",
      "['./temp.txt']\n",
      "['./temp.txt']\n",
      "['./temp.txt']\n",
      "['./temp.txt']\n",
      "['./temp.txt']\n",
      "['./temp.txt']\n",
      "['./temp.txt']\n",
      "['./temp.txt']\n",
      "['./temp.txt']\n",
      "['./temp.txt']\n",
      "['./temp.txt']\n",
      "['./temp.txt']\n",
      "['./temp.txt']\n",
      "['./temp.txt']\n",
      "['./temp.txt']\n",
      "['./temp.txt']\n",
      "['./temp.txt']\n",
      "['./temp.txt']\n",
      "['./temp.txt']\n",
      "['./temp.txt']\n",
      "['./temp.txt']\n",
      "['./temp.txt']\n"
     ]
    }
   ],
   "source": [
    "from __future__ import absolute_import\n",
    "from __future__ import print_function\n",
    "from __future__ import division\n",
    "\n",
    "import tensorflow as tf\n",
    "import commands\n",
    "\n",
    "with tf.variable_scope(\"test\"):\n",
    "    files = tf.get_variable(\"FILES\", initializer=[\"./train_70.jpg\", \"train_67.jpg\", \"train_40.jpg\"], trainable=False, dtype=tf.string)\n",
    "    q = tf.FIFOQueue(capacity=3, dtypes=tf.string)\n",
    "    init_op = q.enqueue_many(files)\n",
    "    qr = tf.train.QueueRunner(q, [init_op])\n",
    "\n",
    "    dequeue_op = q.dequeue()\n",
    "\n",
    "with tf.Session() as sess:\n",
    "    sess.run(tf.global_variables_initializer())\n",
    "    coord = tf.train.Coordinator()\n",
    "    tf.train.add_queue_runner(qr)\n",
    "    \n",
    "    threads = tf.train.start_queue_runners(sess=sess, coord=coord)\n",
    "    \n",
    "    for i in range(20):\n",
    "        print(sess.run([dequeue_op]))\n",
    "    \n",
    "#     sess.run(files.set_shape([4,]))\n",
    "    with tf.variable_scope(\"test\", reuse=True):\n",
    "        sess.run(tf.assign(tf.get_variable(\"FILES\", trainable=False, dtype=tf.string), [\"./train_70.jpg\", \"train_67.jpg\", \"train_40.jpg\", \"./temp.txt\"], validate_shape=False))\n",
    "    \n",
    "    for i in range(100):\n",
    "        d = sess.run([dequeue_op])\n",
    "        if d[0] == \"./temp.txt\":\n",
    "            print(d)\n",
    "    \n",
    "    coord.request_stop()\n",
    "    coord.join(threads)\n",
    "    \n",
    "#     commands.getoutput(\"rm -f temp.txt\")\n",
    "        "
   ]
  },
  {
   "cell_type": "code",
   "execution_count": 3,
   "metadata": {
    "collapsed": false
   },
   "outputs": [
    {
     "name": "stdout",
     "output_type": "stream",
     "text": [
      "['./train_70.jpg']\n",
      "['train_40.jpg']\n",
      "['train_67.jpg']\n",
      "['train_67.jpg']\n",
      "['./train_70.jpg']\n",
      "['train_40.jpg']\n",
      "['train_67.jpg']\n",
      "['./train_70.jpg']\n",
      "['train_40.jpg']\n",
      "['train_67.jpg']\n",
      "['./train_70.jpg']\n",
      "['train_40.jpg']\n",
      "['train_40.jpg']\n",
      "['./train_70.jpg']\n",
      "['train_67.jpg']\n",
      "['train_40.jpg']\n",
      "['./train_70.jpg']\n",
      "['train_67.jpg']\n",
      "['train_40.jpg']\n",
      "['./train_70.jpg']\n",
      "['./temp.txt']\n",
      "['./temp.txt']\n",
      "['./temp.txt']\n",
      "['./temp.txt']\n",
      "['./temp.txt']\n",
      "['./temp.txt']\n",
      "['./temp.txt']\n",
      "['./temp.txt']\n",
      "['./temp.txt']\n",
      "['./temp.txt']\n",
      "['./temp.txt']\n",
      "['./temp.txt']\n",
      "['./temp.txt']\n",
      "['./temp.txt']\n",
      "['./temp.txt']\n",
      "['./temp.txt']\n"
     ]
    }
   ],
   "source": [
    "from __future__ import absolute_import\n",
    "from __future__ import print_function\n",
    "from __future__ import division\n",
    "\n",
    "import tensorflow as tf\n",
    "import commands\n",
    "\n",
    "with tf.variable_scope(\"test2\"):\n",
    "    files = tf.get_variable(\"FILES\", initializer=[\"./train_70.jpg\", \"train_67.jpg\", \"train_40.jpg\"], trainable=False, dtype=tf.string)\n",
    "    q = tf.train.string_input_producer(files)\n",
    "    dequeue_op = q.dequeue()    \n",
    "    \n",
    "with tf.Session() as sess:\n",
    "    sess.run(tf.global_variables_initializer())\n",
    "    coord = tf.train.Coordinator()\n",
    "    \n",
    "    threads = tf.train.start_queue_runners(sess=sess, coord=coord)\n",
    "    \n",
    "    for i in range(20):\n",
    "        print(sess.run([dequeue_op]))\n",
    "    \n",
    "#     sess.run(files.set_shape([4,]))\n",
    "    with tf.variable_scope(\"test2\", reuse=True):\n",
    "        sess.run(tf.assign(tf.get_variable(\"FILES\", trainable=False, dtype=tf.string), [\"./train_70.jpg\", \"train_67.jpg\", \"train_40.jpg\", \"./temp.txt\"], validate_shape=False))\n",
    "    \n",
    "    for i in range(100):\n",
    "        d = sess.run([dequeue_op])\n",
    "        if d[0] == \"./temp.txt\":\n",
    "            print(d)\n",
    "    \n",
    "    coord.request_stop()\n",
    "    coord.join(threads)\n",
    "    \n",
    "#     commands.getoutput(\"rm -f temp.txt\")\n",
    "        "
   ]
  },
  {
   "cell_type": "code",
   "execution_count": 19,
   "metadata": {
    "collapsed": false
   },
   "outputs": [
    {
     "name": "stdout",
     "output_type": "stream",
     "text": [
      "['./train_70.jpg' './test_163.jpg' './train_67.jpg' './train_40.jpg']\n"
     ]
    }
   ],
   "source": [
    "import os\n",
    "\n",
    "tf_record_pattern = os.path.join(\"./*.jpg\")\n",
    "data_files = tf.gfile.Glob(tf_record_pattern)\n",
    "d = tf.Variable(data_files, trainable=False)\n",
    "\n",
    "with tf.Session() as sess:\n",
    "    sess.run(tf.global_variables_initializer())\n",
    "    print(d.eval())\n",
    "    \n",
    "    "
   ]
  },
  {
   "cell_type": "code",
   "execution_count": null,
   "metadata": {
    "collapsed": true
   },
   "outputs": [],
   "source": []
  },
  {
   "cell_type": "code",
   "execution_count": null,
   "metadata": {
    "collapsed": true
   },
   "outputs": [],
   "source": []
  }
 ],
 "metadata": {
  "kernelspec": {
   "display_name": "Python 2",
   "language": "python",
   "name": "python2"
  },
  "language_info": {
   "codemirror_mode": {
    "name": "ipython",
    "version": 2
   },
   "file_extension": ".py",
   "mimetype": "text/x-python",
   "name": "python",
   "nbconvert_exporter": "python",
   "pygments_lexer": "ipython2",
   "version": "2.7.6"
  }
 },
 "nbformat": 4,
 "nbformat_minor": 2
}
