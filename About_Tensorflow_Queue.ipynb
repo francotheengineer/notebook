{
 "cells": [
  {
   "cell_type": "markdown",
   "metadata": {},
   "source": [
    "# Tensorflow ライブラリ読解(Queue)\n",
    "\n",
    "## はじめに(Queue)とは\n",
    "一般的な回路におけるQueueと同じ\n",
    "\n",
    "マルチスレッドにおいて、複数のスレッドで処理したデータを複数のスレッドで利用したい場合、間にQueueを挟むことにより\n",
    "処理速度の差を吸収することができ、スレッド間でのデータのやり取りを効率的にする。"
   ]
  },
  {
   "cell_type": "markdown",
   "metadata": {},
   "source": [
    "## Queueの種類\n",
    "https://www.tensorflow.org/api_docs/python/io_ops/queues 参照\n",
    "### tf.FIFOQueue  \n",
    "一般的なFIFO\n",
    "### tf.PaddingFIFOQueue  \n",
    "A FIFOQueue that supports batching variable-sized tensors by padding.  \n",
    "色々なサイズのテンソルを、パディングしながら格納できるFIFO\n",
    "### tf.RandomShuffleQueue\n",
    "Create a queue that dequeues elements in a random order.  \n",
    "ランダムな順番にデータを取り出すQueue\n",
    "### tf.PriorityQueue\n",
    "A queue implementation that dequeues elements in prioritized order.  \n",
    "優先度順にデータを取り出すQueue\n",
    "\n",
    "## それぞれのQueueを使ってみる\n",
    "(tf.PaddingFIFOQueueは使い方分からず...)"
   ]
  },
  {
   "cell_type": "code",
   "execution_count": 1,
   "metadata": {
    "collapsed": false
   },
   "outputs": [
    {
     "name": "stdout",
     "output_type": "stream",
     "text": [
      "Size = 5\n",
      "q[0] = [1]\n",
      "q[1] = [2]\n",
      "q[2] = [3]\n"
     ]
    }
   ],
   "source": [
    "from __future__ import absolute_import\n",
    "from __future__ import print_function\n",
    "from __future__ import division\n",
    "\n",
    "import tensorflow as tf\n",
    "\n",
    "d = [[1, 2, 3, 4, 5]]\n",
    "\n",
    "q = tf.FIFOQueue(capacity=10, dtypes=tf.int32)\n",
    "init_op = q.enqueue_many(d)\n",
    "dequeue_op = q.dequeue()\n",
    "\n",
    "with tf.Session() as sess:\n",
    "    sess.run([init_op])\n",
    "    sess.run(q.close())\n",
    "    print(\"Size = %d\" % sess.run(q.size()))\n",
    "    for i in range(3):\n",
    "        print(\"q[%d] = %s\" % (i, sess.run([dequeue_op])))\n",
    "    "
   ]
  },
  {
   "cell_type": "code",
   "execution_count": 2,
   "metadata": {
    "collapsed": false
   },
   "outputs": [
    {
     "name": "stdout",
     "output_type": "stream",
     "text": [
      "Size = 5\n",
      "q[0] = [4]\n",
      "q[1] = [2]\n",
      "q[2] = [5]\n"
     ]
    }
   ],
   "source": [
    "q = tf.RandomShuffleQueue(capacity=10, min_after_dequeue=1, dtypes=tf.int32)\n",
    "init_op = q.enqueue_many(d)\n",
    "dequeue_op = q.dequeue()\n",
    "\n",
    "with tf.Session() as sess:\n",
    "    sess.run([init_op])\n",
    "    sess.run(q.close())\n",
    "    print(\"Size = %d\" % sess.run(q.size()))\n",
    "    for i in range(3):\n",
    "        print(\"q[%d] = %s\" % (i, sess.run([dequeue_op])))"
   ]
  },
  {
   "cell_type": "code",
   "execution_count": 3,
   "metadata": {
    "collapsed": false,
    "scrolled": true
   },
   "outputs": [
    {
     "name": "stdout",
     "output_type": "stream",
     "text": [
      "Size = 3\n",
      "q[0] = [[1, 1]]\n",
      "q[1] = [[2, 2]]\n",
      "q[2] = [[3, 3]]\n"
     ]
    }
   ],
   "source": [
    "q = tf.PriorityQueue(capacity=10, types=[tf.int32], shapes=[])\n",
    "enqueue_ops = [\n",
    "    q.enqueue((3, 3)), # (priority, tensor)\n",
    "    q.enqueue((2, 2)),\n",
    "    q.enqueue((1, 1))\n",
    "]\n",
    "dequeue_op = q.dequeue()\n",
    "\n",
    "with tf.Session() as sess:\n",
    "    for op in enqueue_ops:\n",
    "        sess.run([op])\n",
    "    sess.run(q.close())\n",
    "    print(\"Size = %d\" % sess.run(q.size()))\n",
    "    for i in range(3):\n",
    "        print(\"q[%d] = %s\" % (i, sess.run([dequeue_op])))"
   ]
  },
  {
   "cell_type": "markdown",
   "metadata": {},
   "source": [
    "## マルチスレッドでQueueを使う\n",
    "マルチスレッドでQueueを使う場合は、CoordinatorとQueueRunnerを利用する(らしい)  \n",
    "https://www.tensorflow.org/how_tos/threading_and_queues/\n",
    "この辺を参照\n"
   ]
  },
  {
   "cell_type": "code",
   "execution_count": 2,
   "metadata": {
    "collapsed": false
   },
   "outputs": [
    {
     "name": "stdout",
     "output_type": "stream",
     "text": [
      "[100], [100], [101], [100], [101], [100], [101], [100], [101], [100], [101], [100], [101], [100], [101], [100], [101], [100], [101], [100], Queue Empty!\n"
     ]
    }
   ],
   "source": [
    "import random\n",
    "\n",
    "# 深さ10のQueueを作成\n",
    "q = tf.FIFOQueue(capacity=10, dtypes=tf.int32)\n",
    "# 初期化関数\n",
    "init_op = q.enqueue_many(d)\n",
    "# Queueに詰める関数を2つ定義(100, 101をそれぞれ入れる)\n",
    "enqueue_ops = map(lambda e: q.enqueue(e), [100, 101])\n",
    "# Queueを取り出して実際に利用する関数\n",
    "dequeue_op = q.dequeue()\n",
    "\n",
    "with tf.Session() as sess:\n",
    "#     sess.run([init_op]) # Queueを初期化\n",
    "    coord = tf.train.Coordinator() # Coordinatorをインスタンス\n",
    "    qr = tf.train.QueueRunner(q, enqueue_ops) # QueueRunnerでそれぞれのopをスレッド化\n",
    "    tf.train.add_queue_runner(qr) # デフォルトグラフに登録する\n",
    "    threads = tf.train.start_queue_runners(coord=coord) # Queueの動作開始, 戻り値はthreadのlist\n",
    "    \n",
    "    for i in range(10):\n",
    "        print(sess.run([dequeue_op]), end=\", \") # 15回取り出す、マルチスレッドなので100と101が観測されるはず\n",
    "    \n",
    "    coord.request_stop() # すべての命令が終わり次第Queueを停止させる\n",
    "    coord.join(threads) # 止まるまで待機\n",
    "\n",
    "    for i in range(10): # 10段分はQueueに残っている\n",
    "        print(sess.run([dequeue_op]), end=\", \")\n",
    "\n",
    "    try:\n",
    "        # CoordinatorでQueueRunnerを動かすと停止時にQueueをクローズする\n",
    "        # なので、段数以上取り出そうとするとエラーが発生\n",
    "        print(sess.run([dequeue_op])) # may be error\n",
    "    except tf.errors.OutOfRangeError:\n",
    "        print(\"Queue Empty!\")"
   ]
  },
  {
   "cell_type": "markdown",
   "metadata": {},
   "source": [
    "## Queue作成関数\n",
    "この辺の無限Queueを作成するための関数が用意されている。  \n",
    "\n",
    "- tf.train.input_producer\n",
    "- tf.train.range_input_producer\n",
    "- tf.train.slice_input_producer\n",
    "- tf.train.string_input_producer\n",
    "\n",
    "### 例: string_input_producer"
   ]
  },
  {
   "cell_type": "code",
   "execution_count": 5,
   "metadata": {
    "collapsed": false,
    "scrolled": true
   },
   "outputs": [
    {
     "name": "stdout",
     "output_type": "stream",
     "text": [
      "['e']\n",
      "['c']\n",
      "['b']\n",
      "['a']\n",
      "['d']\n",
      "['a']\n",
      "['b']\n",
      "['e']\n",
      "['d']\n",
      "['c']\n"
     ]
    }
   ],
   "source": [
    "\n",
    "d = [\"a\", \"b\", \"c\", \"d\", \"e\"]\n",
    "\n",
    "# shuffle=Trueの場合 → ランダムな順番で出力(デフォルト)\n",
    "# shuffle=Falseの場合 → 入れた順番で出力\n",
    "# 戻り値はQueue、だが内部でQueueRunnerを作成し・かつadd_queue_runnerされた状態で出力される\n",
    "# 入力されたリストのテキストを無限に出力する\n",
    "q = tf.train.string_input_producer(d)\n",
    "# 回数を指定することも可能\n",
    "# q = tf.train.string_input_producer(d, num_epochs=2)\n",
    "\n",
    "dequeue_op = q.dequeue()\n",
    "\n",
    "with tf.Session() as sess:\n",
    "    # 回数を指定した場合は初期化する必要があるらしい\n",
    "    # sess.run(tf.local_variables_initializer())\n",
    "    \n",
    "    coord = tf.train.Coordinator()\n",
    "    \n",
    "    # 既に登録されているためaddせずに利用できる(何スレッドなんだろう？)\n",
    "    threads = tf.train.start_queue_runners(coord=coord)\n",
    "\n",
    "    for i in range(10):\n",
    "        print(sess.run([dequeue_op]))\n",
    "\n",
    "    coord.request_stop()\n",
    "    coord.join(threads)\n"
   ]
  },
  {
   "cell_type": "code",
   "execution_count": null,
   "metadata": {
    "collapsed": true
   },
   "outputs": [],
   "source": []
  }
 ],
 "metadata": {
  "kernelspec": {
   "display_name": "Python 2",
   "language": "python",
   "name": "python2"
  },
  "language_info": {
   "codemirror_mode": {
    "name": "ipython",
    "version": 2
   },
   "file_extension": ".py",
   "mimetype": "text/x-python",
   "name": "python",
   "nbconvert_exporter": "python",
   "pygments_lexer": "ipython2",
   "version": "2.7.6"
  }
 },
 "nbformat": 4,
 "nbformat_minor": 2
}
